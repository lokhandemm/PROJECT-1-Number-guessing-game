{
  "nbformat": 4,
  "nbformat_minor": 0,
  "metadata": {
    "colab": {
      "provenance": []
    },
    "kernelspec": {
      "name": "python3",
      "display_name": "Python 3"
    },
    "language_info": {
      "name": "python"
    }
  },
  "cells": [
    {
      "cell_type": "code",
      "execution_count": 1,
      "metadata": {
        "colab": {
          "base_uri": "https://localhost:8080/"
        },
        "id": "b8sL2Orv-BgW",
        "outputId": "03fae351-0094-42d5-daae-a836271d595e"
      },
      "outputs": [
        {
          "output_type": "stream",
          "name": "stdout",
          "text": [
            "Guess a number (1-100): 25\n",
            "Too low, try again.\n",
            "Guess a number (1-100): 85\n",
            "Too high, try again.\n",
            "Guess a number (1-100): 55\n",
            "Too high, try again.\n",
            "Guess a number (1-100): 34\n",
            "Too high, try again.\n",
            "Guess a number (1-100): 27\n",
            "Too low, try again.\n",
            "Guess a number (1-100): 30\n",
            "Too low, try again.\n",
            "Guess a number (1-100): 33\n",
            "Correct! You win.\n"
          ]
        }
      ],
      "source": [
        "import random\n",
        "def guess_game():\n",
        "    n=random.randint(1,100)\n",
        "    while True:\n",
        "        g=int(input(\"Guess a number (1-100): \"))\n",
        "        if g==n:\n",
        "            print(\"Correct! You win.\")\n",
        "            break\n",
        "        elif g<n:\n",
        "            print(\"Too low, try again.\")\n",
        "        else:\n",
        "            print(\"Too high, try again.\")\n",
        "guess_game()\n"
      ]
    },
    {
      "cell_type": "code",
      "source": [
        "import random\n",
        "\n",
        "def guess_game():\n",
        "    n=random.randint(1,100)\n",
        "    while True:\n",
        "        g=int(input(\"Guess a number (1-100): \"))\n",
        "        if g==n:\n",
        "            print(\"Correct! You win.\")\n",
        "            break\n",
        "        elif g<n:\n",
        "            print(\"Too low, try again.\")\n",
        "        else:\n",
        "            print(\"Too high, try again.\")\n",
        "\n",
        "guess_game()\n"
      ],
      "metadata": {
        "colab": {
          "base_uri": "https://localhost:8080/"
        },
        "id": "wCeR67M4-Dl3",
        "outputId": "1db97dfd-a89e-4bb6-a63e-91384723c1f5"
      },
      "execution_count": 2,
      "outputs": [
        {
          "output_type": "stream",
          "name": "stdout",
          "text": [
            "Guess a number (1-100): 33\n",
            "Too low, try again.\n",
            "Guess a number (1-100): 55\n",
            "Too low, try again.\n",
            "Guess a number (1-100): 66\n",
            "Too low, try again.\n",
            "Guess a number (1-100): 88\n",
            "Too high, try again.\n",
            "Guess a number (1-100): 77\n",
            "Too low, try again.\n",
            "Guess a number (1-100): 78\n",
            "Too low, try again.\n",
            "Guess a number (1-100): 80\n",
            "Too low, try again.\n",
            "Guess a number (1-100): 85\n",
            "Too high, try again.\n",
            "Guess a number (1-100): 83\n",
            "Too high, try again.\n",
            "Guess a number (1-100): 81\n",
            "Too low, try again.\n",
            "Guess a number (1-100): 82\n",
            "Correct! You win.\n"
          ]
        }
      ]
    },
    {
      "cell_type": "code",
      "source": [],
      "metadata": {
        "id": "26OTR7Lh-beE"
      },
      "execution_count": null,
      "outputs": []
    }
  ]
}